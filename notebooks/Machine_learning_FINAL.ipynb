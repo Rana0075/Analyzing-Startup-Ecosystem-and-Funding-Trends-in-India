{
  "nbformat": 4,
  "nbformat_minor": 0,
  "metadata": {
    "colab": {
      "provenance": [],
      "include_colab_link": true
    },
    "kernelspec": {
      "name": "python3",
      "display_name": "Python 3"
    },
    "language_info": {
      "name": "python"
    }
  },
  "cells": [
    {
      "cell_type": "markdown",
      "metadata": {
        "id": "view-in-github",
        "colab_type": "text"
      },
      "source": [
        "<a href=\"https://colab.research.google.com/github/ranshull/Analyzing-Startup-Ecosystem-and-Funding-Trends-in-India/blob/main/Machine_learning_FINAL.ipynb\" target=\"_parent\"><img src=\"https://colab.research.google.com/assets/colab-badge.svg\" alt=\"Open In Colab\"/></a>"
      ]
    },
    {
      "cell_type": "markdown",
      "source": [
        "REGRESSION"
      ],
      "metadata": {
        "id": "spZu1Xe994p0"
      }
    },
    {
      "cell_type": "code",
      "source": [
        "import pandas as pd\n",
        "import numpy as np"
      ],
      "metadata": {
        "id": "8D3Tbg3H2fJR"
      },
      "execution_count": 3,
      "outputs": []
    },
    {
      "cell_type": "code",
      "source": [
        "from google.colab import drive\n",
        "drive.mount('/content/drive')\n"
      ],
      "metadata": {
        "colab": {
          "base_uri": "https://localhost:8080/"
        },
        "id": "nszi_6lX02PG",
        "outputId": "3882fdfd-2ded-42fe-dcf1-ff90fcc8ae43"
      },
      "execution_count": 4,
      "outputs": [
        {
          "output_type": "stream",
          "name": "stdout",
          "text": [
            "Mounted at /content/drive\n"
          ]
        }
      ]
    },
    {
      "cell_type": "code",
      "execution_count": 5,
      "metadata": {
        "id": "gyRSEbeT078w"
      },
      "outputs": [],
      "source": [
        "data=pd.read_csv('/content/drive/MyDrive/Colab Notebooks/PROJECT_DS/CSV/cleaned2_Startup_funding.csv')"
      ]
    },
    {
      "cell_type": "code",
      "source": [
        "df=data.copy()"
      ],
      "metadata": {
        "id": "Uu6F73jo7CqF"
      },
      "execution_count": 6,
      "outputs": []
    },
    {
      "cell_type": "markdown",
      "source": [
        "LABELING CATEGORICAL DATA  FOR TRAINING"
      ],
      "metadata": {
        "id": "9h5jRp5L9xsE"
      }
    },
    {
      "cell_type": "code",
      "source": [
        "df['Industry_Vertical'].unique()"
      ],
      "metadata": {
        "colab": {
          "base_uri": "https://localhost:8080/"
        },
        "id": "66_BOi7H3AZA",
        "outputId": "fa3aa5d0-42fa-428f-83ac-7f469833d7f4"
      },
      "execution_count": 7,
      "outputs": [
        {
          "output_type": "execute_result",
          "data": {
            "text/plain": [
              "array(['EdTech', 'FinTech', 'Technology', 'Hospitality', 'FoodTech',\n",
              "       'ECommerce', 'B2B', 'Consumer Goods', 'SaaS', 'Retail', 'Services',\n",
              "       'Healthcare', 'Artificial Intelligence', 'Gaming',\n",
              "       'Consumer Internet', 'Logistics', 'Real Estate', 'CleanTech',\n",
              "       'Media', 'Automation', 'Others', 'Fashion', 'Transport', 'Beauty',\n",
              "       'Auto', 'Marketplace', 'Analytics', 'Home Decor',\n",
              "       'Food & Beverage'], dtype=object)"
            ]
          },
          "metadata": {},
          "execution_count": 7
        }
      ]
    },
    {
      "cell_type": "code",
      "source": [
        "industry_encoding = {\n",
        "    'EdTech': 0,\n",
        "    'FinTech': 1,\n",
        "    'Technology': 2,\n",
        "    'Hospitality': 3,\n",
        "    'FoodTech': 4,\n",
        "    'ECommerce': 5,\n",
        "    'B2B': 6,\n",
        "    'Consumer Goods': 7,\n",
        "    'SaaS': 8,\n",
        "    'Retail': 9,\n",
        "    'Services': 10,\n",
        "    'Healthcare': 11,\n",
        "    'Artificial Intelligence': 12,\n",
        "    'Gaming': 13,\n",
        "    'Consumer Internet': 14,\n",
        "    'Logistics': 15,\n",
        "    'Real Estate': 16,\n",
        "    'CleanTech': 17,\n",
        "    'Media': 18,\n",
        "    'Automation': 19,\n",
        "    'Others': 20,\n",
        "    'Fashion': 21,\n",
        "    'Transport': 22,\n",
        "    'Beauty': 23,\n",
        "    'Auto': 24,\n",
        "    'Marketplace': 25,\n",
        "    'Analytics': 26,\n",
        "    'Home Decor': 27,\n",
        "    'Food & Beverage': 28\n",
        "}\n",
        "df['Industry_Vertical_encoded'] = df['Industry_Vertical'].map(industry_encoding)\n"
      ],
      "metadata": {
        "id": "NrLt3Jsc3Thu"
      },
      "execution_count": 8,
      "outputs": []
    },
    {
      "cell_type": "code",
      "source": [
        "df['City_Location'].unique()"
      ],
      "metadata": {
        "colab": {
          "base_uri": "https://localhost:8080/"
        },
        "id": "4r5ean1Z4NS4",
        "outputId": "a1c1134c-b3b0-4efc-8640-cc3fab76ef33"
      },
      "execution_count": 9,
      "outputs": [
        {
          "output_type": "execute_result",
          "data": {
            "text/plain": [
              "array(['Bangalore', 'New Delhi', 'Mumbai', 'Gurgaon', 'Chennai', 'Pune',\n",
              "       'Noida', 'Unknown', 'Faridabad', 'Hyderabad', 'Tulangan', 'Bhopal',\n",
              "       'Jaipur', 'Amritsar', 'Nagpur', 'Indore', 'Rourkela', 'Ahmedabad',\n",
              "       'Bhubaneswar', 'Srinagar', 'Chandigarh', 'Coimbatore', 'Kolkata',\n",
              "       'Udaipur', 'Surat', 'Kochi', 'Udupi', 'Karur', 'Gwalior', 'Goa',\n",
              "       'Gaya', 'Vadodara', 'Trivandrum', 'Panaji', 'Agra', 'Hubli',\n",
              "       'Kozhikode', 'Siliguri', 'Lucknow', 'Kanpur', 'Varanasi',\n",
              "       'Jodhpur', 'Belgaum'], dtype=object)"
            ]
          },
          "metadata": {},
          "execution_count": 9
        }
      ]
    },
    {
      "cell_type": "code",
      "source": [
        "city_encoding = {\n",
        "    'Bangalore': 0,\n",
        "    'New Delhi': 1,\n",
        "    'Mumbai': 2,\n",
        "    'Gurgaon': 3,\n",
        "    'Chennai': 4,\n",
        "    'Pune': 5,\n",
        "    'Noida': 6,\n",
        "    'Unknown': 7,\n",
        "    'Faridabad': 8,\n",
        "    'Hyderabad': 9,\n",
        "    'Tulangan': 10,\n",
        "    'Bhopal': 11,\n",
        "    'Jaipur': 12,\n",
        "    'Amritsar': 13,\n",
        "    'Nagpur': 14,\n",
        "    'Indore': 15,\n",
        "    'Rourkela': 16,\n",
        "    'Ahmedabad': 17,\n",
        "    'Bhubaneswar': 18,\n",
        "    'Srinagar': 19,\n",
        "    'Chandigarh': 20,\n",
        "    'Coimbatore': 21,\n",
        "    'Kolkata': 22,\n",
        "    'Udaipur': 23,\n",
        "    'Surat': 24,\n",
        "    'Kochi': 25,\n",
        "    'Udupi': 26,\n",
        "    'Karur': 27,\n",
        "    'Gwalior': 28,\n",
        "    'Goa': 29,\n",
        "    'Gaya': 30,\n",
        "    'Vadodara': 31,\n",
        "    'Trivandrum': 32,\n",
        "    'Panaji': 33,\n",
        "    'Agra': 34,\n",
        "    'Hubli': 35,\n",
        "    'Kozhikode': 36,\n",
        "    'Siliguri': 37,\n",
        "    'Lucknow': 38,\n",
        "    'Kanpur': 39,\n",
        "    'Varanasi': 40,\n",
        "    'Jodhpur': 41,\n",
        "    'Belgaum': 42\n",
        "}\n",
        "df['City_Location_encoded'] = df['City_Location'].map(city_encoding)\n"
      ],
      "metadata": {
        "id": "86TvWozK4Qag"
      },
      "execution_count": 10,
      "outputs": []
    },
    {
      "cell_type": "code",
      "source": [
        "df['Investment_Type'].unique()"
      ],
      "metadata": {
        "colab": {
          "base_uri": "https://localhost:8080/"
        },
        "id": "H4dsQUEE4TQZ",
        "outputId": "05717501-fd33-4174-9791-7c83e1aa4f41"
      },
      "execution_count": 11,
      "outputs": [
        {
          "output_type": "execute_result",
          "data": {
            "text/plain": [
              "array(['Private Equity', 'Pre-Series A', 'Seed Funding', 'Series C',\n",
              "       'Series B', 'Series A', 'Series E', 'Series D', 'Series F',\n",
              "       'Series H', 'Series G', 'Other', 'Debt Funding', 'Angel Funding',\n",
              "       'Venture Round', 'Series J'], dtype=object)"
            ]
          },
          "metadata": {},
          "execution_count": 11
        }
      ]
    },
    {
      "cell_type": "code",
      "source": [
        "investment_type_encoding = {\n",
        "    'Private Equity': 0,\n",
        "    'Pre-Series A': 1,\n",
        "    'Seed Funding': 2,\n",
        "    'Series C': 3,\n",
        "    'Series B': 4,\n",
        "    'Series A': 5,\n",
        "    'Series E': 6,\n",
        "    'Series D': 7,\n",
        "    'Series F': 8,\n",
        "    'Series H': 9,\n",
        "    'Series G': 10,\n",
        "    'Other': 11,\n",
        "    'Debt Funding': 12,\n",
        "    'Angel Funding': 13,\n",
        "    'Venture Round': 14,\n",
        "    'Series J': 15\n",
        "}\n",
        "df['Investment_Type_encoded'] = df['Investment_Type'].map(investment_type_encoding)\n"
      ],
      "metadata": {
        "id": "7QlhHF6Y4VkM"
      },
      "execution_count": 12,
      "outputs": []
    },
    {
      "cell_type": "code",
      "source": [
        "df.select_dtypes(include=np.number)"
      ],
      "metadata": {
        "colab": {
          "base_uri": "https://localhost:8080/",
          "height": 423
        },
        "id": "uJfZjviE4XJr",
        "outputId": "7282e3b4-fc58-4afd-92da-adf9a5f4ed7b"
      },
      "execution_count": 13,
      "outputs": [
        {
          "output_type": "execute_result",
          "data": {
            "text/plain": [
              "       Amount_USD  Year  investor_count  Industry_Vertical_encoded  \\\n",
              "0     200000000.0  2020               1                          0   \n",
              "1       3000000.0  2020               1                          1   \n",
              "2       1800000.0  2020               1                          2   \n",
              "3       8048394.0  2020               1                          2   \n",
              "4      18358860.0  2020               1                          2   \n",
              "...           ...   ...             ...                        ...   \n",
              "2868   25000000.0  2015               1                          2   \n",
              "2869    1529113.0  2015               1                          2   \n",
              "2870   25795550.0  2015               2                         27   \n",
              "2871   10000000.0  2015               1                          2   \n",
              "2872   25795550.0  2015               1                         17   \n",
              "\n",
              "      City_Location_encoded  Investment_Type_encoded  \n",
              "0                         0                        0  \n",
              "1                         1                        1  \n",
              "2                         2                        2  \n",
              "3                         3                        3  \n",
              "4                         0                        4  \n",
              "...                     ...                      ...  \n",
              "2868                      3                        0  \n",
              "2869                      4                        2  \n",
              "2870                      0                        0  \n",
              "2871                      0                        0  \n",
              "2872                      1                        0  \n",
              "\n",
              "[2873 rows x 6 columns]"
            ],
            "text/html": [
              "\n",
              "  <div id=\"df-eeeb6e5d-cd34-4a34-a522-ed76a12d11be\" class=\"colab-df-container\">\n",
              "    <div>\n",
              "<style scoped>\n",
              "    .dataframe tbody tr th:only-of-type {\n",
              "        vertical-align: middle;\n",
              "    }\n",
              "\n",
              "    .dataframe tbody tr th {\n",
              "        vertical-align: top;\n",
              "    }\n",
              "\n",
              "    .dataframe thead th {\n",
              "        text-align: right;\n",
              "    }\n",
              "</style>\n",
              "<table border=\"1\" class=\"dataframe\">\n",
              "  <thead>\n",
              "    <tr style=\"text-align: right;\">\n",
              "      <th></th>\n",
              "      <th>Amount_USD</th>\n",
              "      <th>Year</th>\n",
              "      <th>investor_count</th>\n",
              "      <th>Industry_Vertical_encoded</th>\n",
              "      <th>City_Location_encoded</th>\n",
              "      <th>Investment_Type_encoded</th>\n",
              "    </tr>\n",
              "  </thead>\n",
              "  <tbody>\n",
              "    <tr>\n",
              "      <th>0</th>\n",
              "      <td>200000000.0</td>\n",
              "      <td>2020</td>\n",
              "      <td>1</td>\n",
              "      <td>0</td>\n",
              "      <td>0</td>\n",
              "      <td>0</td>\n",
              "    </tr>\n",
              "    <tr>\n",
              "      <th>1</th>\n",
              "      <td>3000000.0</td>\n",
              "      <td>2020</td>\n",
              "      <td>1</td>\n",
              "      <td>1</td>\n",
              "      <td>1</td>\n",
              "      <td>1</td>\n",
              "    </tr>\n",
              "    <tr>\n",
              "      <th>2</th>\n",
              "      <td>1800000.0</td>\n",
              "      <td>2020</td>\n",
              "      <td>1</td>\n",
              "      <td>2</td>\n",
              "      <td>2</td>\n",
              "      <td>2</td>\n",
              "    </tr>\n",
              "    <tr>\n",
              "      <th>3</th>\n",
              "      <td>8048394.0</td>\n",
              "      <td>2020</td>\n",
              "      <td>1</td>\n",
              "      <td>2</td>\n",
              "      <td>3</td>\n",
              "      <td>3</td>\n",
              "    </tr>\n",
              "    <tr>\n",
              "      <th>4</th>\n",
              "      <td>18358860.0</td>\n",
              "      <td>2020</td>\n",
              "      <td>1</td>\n",
              "      <td>2</td>\n",
              "      <td>0</td>\n",
              "      <td>4</td>\n",
              "    </tr>\n",
              "    <tr>\n",
              "      <th>...</th>\n",
              "      <td>...</td>\n",
              "      <td>...</td>\n",
              "      <td>...</td>\n",
              "      <td>...</td>\n",
              "      <td>...</td>\n",
              "      <td>...</td>\n",
              "    </tr>\n",
              "    <tr>\n",
              "      <th>2868</th>\n",
              "      <td>25000000.0</td>\n",
              "      <td>2015</td>\n",
              "      <td>1</td>\n",
              "      <td>2</td>\n",
              "      <td>3</td>\n",
              "      <td>0</td>\n",
              "    </tr>\n",
              "    <tr>\n",
              "      <th>2869</th>\n",
              "      <td>1529113.0</td>\n",
              "      <td>2015</td>\n",
              "      <td>1</td>\n",
              "      <td>2</td>\n",
              "      <td>4</td>\n",
              "      <td>2</td>\n",
              "    </tr>\n",
              "    <tr>\n",
              "      <th>2870</th>\n",
              "      <td>25795550.0</td>\n",
              "      <td>2015</td>\n",
              "      <td>2</td>\n",
              "      <td>27</td>\n",
              "      <td>0</td>\n",
              "      <td>0</td>\n",
              "    </tr>\n",
              "    <tr>\n",
              "      <th>2871</th>\n",
              "      <td>10000000.0</td>\n",
              "      <td>2015</td>\n",
              "      <td>1</td>\n",
              "      <td>2</td>\n",
              "      <td>0</td>\n",
              "      <td>0</td>\n",
              "    </tr>\n",
              "    <tr>\n",
              "      <th>2872</th>\n",
              "      <td>25795550.0</td>\n",
              "      <td>2015</td>\n",
              "      <td>1</td>\n",
              "      <td>17</td>\n",
              "      <td>1</td>\n",
              "      <td>0</td>\n",
              "    </tr>\n",
              "  </tbody>\n",
              "</table>\n",
              "<p>2873 rows × 6 columns</p>\n",
              "</div>\n",
              "    <div class=\"colab-df-buttons\">\n",
              "\n",
              "  <div class=\"colab-df-container\">\n",
              "    <button class=\"colab-df-convert\" onclick=\"convertToInteractive('df-eeeb6e5d-cd34-4a34-a522-ed76a12d11be')\"\n",
              "            title=\"Convert this dataframe to an interactive table.\"\n",
              "            style=\"display:none;\">\n",
              "\n",
              "  <svg xmlns=\"http://www.w3.org/2000/svg\" height=\"24px\" viewBox=\"0 -960 960 960\">\n",
              "    <path d=\"M120-120v-720h720v720H120Zm60-500h600v-160H180v160Zm220 220h160v-160H400v160Zm0 220h160v-160H400v160ZM180-400h160v-160H180v160Zm440 0h160v-160H620v160ZM180-180h160v-160H180v160Zm440 0h160v-160H620v160Z\"/>\n",
              "  </svg>\n",
              "    </button>\n",
              "\n",
              "  <style>\n",
              "    .colab-df-container {\n",
              "      display:flex;\n",
              "      gap: 12px;\n",
              "    }\n",
              "\n",
              "    .colab-df-convert {\n",
              "      background-color: #E8F0FE;\n",
              "      border: none;\n",
              "      border-radius: 50%;\n",
              "      cursor: pointer;\n",
              "      display: none;\n",
              "      fill: #1967D2;\n",
              "      height: 32px;\n",
              "      padding: 0 0 0 0;\n",
              "      width: 32px;\n",
              "    }\n",
              "\n",
              "    .colab-df-convert:hover {\n",
              "      background-color: #E2EBFA;\n",
              "      box-shadow: 0px 1px 2px rgba(60, 64, 67, 0.3), 0px 1px 3px 1px rgba(60, 64, 67, 0.15);\n",
              "      fill: #174EA6;\n",
              "    }\n",
              "\n",
              "    .colab-df-buttons div {\n",
              "      margin-bottom: 4px;\n",
              "    }\n",
              "\n",
              "    [theme=dark] .colab-df-convert {\n",
              "      background-color: #3B4455;\n",
              "      fill: #D2E3FC;\n",
              "    }\n",
              "\n",
              "    [theme=dark] .colab-df-convert:hover {\n",
              "      background-color: #434B5C;\n",
              "      box-shadow: 0px 1px 3px 1px rgba(0, 0, 0, 0.15);\n",
              "      filter: drop-shadow(0px 1px 2px rgba(0, 0, 0, 0.3));\n",
              "      fill: #FFFFFF;\n",
              "    }\n",
              "  </style>\n",
              "\n",
              "    <script>\n",
              "      const buttonEl =\n",
              "        document.querySelector('#df-eeeb6e5d-cd34-4a34-a522-ed76a12d11be button.colab-df-convert');\n",
              "      buttonEl.style.display =\n",
              "        google.colab.kernel.accessAllowed ? 'block' : 'none';\n",
              "\n",
              "      async function convertToInteractive(key) {\n",
              "        const element = document.querySelector('#df-eeeb6e5d-cd34-4a34-a522-ed76a12d11be');\n",
              "        const dataTable =\n",
              "          await google.colab.kernel.invokeFunction('convertToInteractive',\n",
              "                                                    [key], {});\n",
              "        if (!dataTable) return;\n",
              "\n",
              "        const docLinkHtml = 'Like what you see? Visit the ' +\n",
              "          '<a target=\"_blank\" href=https://colab.research.google.com/notebooks/data_table.ipynb>data table notebook</a>'\n",
              "          + ' to learn more about interactive tables.';\n",
              "        element.innerHTML = '';\n",
              "        dataTable['output_type'] = 'display_data';\n",
              "        await google.colab.output.renderOutput(dataTable, element);\n",
              "        const docLink = document.createElement('div');\n",
              "        docLink.innerHTML = docLinkHtml;\n",
              "        element.appendChild(docLink);\n",
              "      }\n",
              "    </script>\n",
              "  </div>\n",
              "\n",
              "\n",
              "    <div id=\"df-5d0acf0e-8865-4f18-9582-63ace6406e1a\">\n",
              "      <button class=\"colab-df-quickchart\" onclick=\"quickchart('df-5d0acf0e-8865-4f18-9582-63ace6406e1a')\"\n",
              "                title=\"Suggest charts\"\n",
              "                style=\"display:none;\">\n",
              "\n",
              "<svg xmlns=\"http://www.w3.org/2000/svg\" height=\"24px\"viewBox=\"0 0 24 24\"\n",
              "     width=\"24px\">\n",
              "    <g>\n",
              "        <path d=\"M19 3H5c-1.1 0-2 .9-2 2v14c0 1.1.9 2 2 2h14c1.1 0 2-.9 2-2V5c0-1.1-.9-2-2-2zM9 17H7v-7h2v7zm4 0h-2V7h2v10zm4 0h-2v-4h2v4z\"/>\n",
              "    </g>\n",
              "</svg>\n",
              "      </button>\n",
              "\n",
              "<style>\n",
              "  .colab-df-quickchart {\n",
              "      --bg-color: #E8F0FE;\n",
              "      --fill-color: #1967D2;\n",
              "      --hover-bg-color: #E2EBFA;\n",
              "      --hover-fill-color: #174EA6;\n",
              "      --disabled-fill-color: #AAA;\n",
              "      --disabled-bg-color: #DDD;\n",
              "  }\n",
              "\n",
              "  [theme=dark] .colab-df-quickchart {\n",
              "      --bg-color: #3B4455;\n",
              "      --fill-color: #D2E3FC;\n",
              "      --hover-bg-color: #434B5C;\n",
              "      --hover-fill-color: #FFFFFF;\n",
              "      --disabled-bg-color: #3B4455;\n",
              "      --disabled-fill-color: #666;\n",
              "  }\n",
              "\n",
              "  .colab-df-quickchart {\n",
              "    background-color: var(--bg-color);\n",
              "    border: none;\n",
              "    border-radius: 50%;\n",
              "    cursor: pointer;\n",
              "    display: none;\n",
              "    fill: var(--fill-color);\n",
              "    height: 32px;\n",
              "    padding: 0;\n",
              "    width: 32px;\n",
              "  }\n",
              "\n",
              "  .colab-df-quickchart:hover {\n",
              "    background-color: var(--hover-bg-color);\n",
              "    box-shadow: 0 1px 2px rgba(60, 64, 67, 0.3), 0 1px 3px 1px rgba(60, 64, 67, 0.15);\n",
              "    fill: var(--button-hover-fill-color);\n",
              "  }\n",
              "\n",
              "  .colab-df-quickchart-complete:disabled,\n",
              "  .colab-df-quickchart-complete:disabled:hover {\n",
              "    background-color: var(--disabled-bg-color);\n",
              "    fill: var(--disabled-fill-color);\n",
              "    box-shadow: none;\n",
              "  }\n",
              "\n",
              "  .colab-df-spinner {\n",
              "    border: 2px solid var(--fill-color);\n",
              "    border-color: transparent;\n",
              "    border-bottom-color: var(--fill-color);\n",
              "    animation:\n",
              "      spin 1s steps(1) infinite;\n",
              "  }\n",
              "\n",
              "  @keyframes spin {\n",
              "    0% {\n",
              "      border-color: transparent;\n",
              "      border-bottom-color: var(--fill-color);\n",
              "      border-left-color: var(--fill-color);\n",
              "    }\n",
              "    20% {\n",
              "      border-color: transparent;\n",
              "      border-left-color: var(--fill-color);\n",
              "      border-top-color: var(--fill-color);\n",
              "    }\n",
              "    30% {\n",
              "      border-color: transparent;\n",
              "      border-left-color: var(--fill-color);\n",
              "      border-top-color: var(--fill-color);\n",
              "      border-right-color: var(--fill-color);\n",
              "    }\n",
              "    40% {\n",
              "      border-color: transparent;\n",
              "      border-right-color: var(--fill-color);\n",
              "      border-top-color: var(--fill-color);\n",
              "    }\n",
              "    60% {\n",
              "      border-color: transparent;\n",
              "      border-right-color: var(--fill-color);\n",
              "    }\n",
              "    80% {\n",
              "      border-color: transparent;\n",
              "      border-right-color: var(--fill-color);\n",
              "      border-bottom-color: var(--fill-color);\n",
              "    }\n",
              "    90% {\n",
              "      border-color: transparent;\n",
              "      border-bottom-color: var(--fill-color);\n",
              "    }\n",
              "  }\n",
              "</style>\n",
              "\n",
              "      <script>\n",
              "        async function quickchart(key) {\n",
              "          const quickchartButtonEl =\n",
              "            document.querySelector('#' + key + ' button');\n",
              "          quickchartButtonEl.disabled = true;  // To prevent multiple clicks.\n",
              "          quickchartButtonEl.classList.add('colab-df-spinner');\n",
              "          try {\n",
              "            const charts = await google.colab.kernel.invokeFunction(\n",
              "                'suggestCharts', [key], {});\n",
              "          } catch (error) {\n",
              "            console.error('Error during call to suggestCharts:', error);\n",
              "          }\n",
              "          quickchartButtonEl.classList.remove('colab-df-spinner');\n",
              "          quickchartButtonEl.classList.add('colab-df-quickchart-complete');\n",
              "        }\n",
              "        (() => {\n",
              "          let quickchartButtonEl =\n",
              "            document.querySelector('#df-5d0acf0e-8865-4f18-9582-63ace6406e1a button');\n",
              "          quickchartButtonEl.style.display =\n",
              "            google.colab.kernel.accessAllowed ? 'block' : 'none';\n",
              "        })();\n",
              "      </script>\n",
              "    </div>\n",
              "\n",
              "    </div>\n",
              "  </div>\n"
            ],
            "application/vnd.google.colaboratory.intrinsic+json": {
              "type": "dataframe",
              "summary": "{\n  \"name\": \"df\",\n  \"rows\": 2873,\n  \"fields\": [\n    {\n      \"column\": \"Amount_USD\",\n      \"properties\": {\n        \"dtype\": \"number\",\n        \"std\": 103159141.72333172,\n        \"min\": 18000.0,\n        \"max\": 3900000000.0,\n        \"num_unique_values\": 448,\n        \"samples\": [\n          73700000.0,\n          310000.0,\n          12200000.0\n        ],\n        \"semantic_type\": \"\",\n        \"description\": \"\"\n      }\n    },\n    {\n      \"column\": \"Year\",\n      \"properties\": {\n        \"dtype\": \"number\",\n        \"std\": 1,\n        \"min\": 2015,\n        \"max\": 2020,\n        \"num_unique_values\": 6,\n        \"samples\": [\n          2020,\n          2019,\n          2015\n        ],\n        \"semantic_type\": \"\",\n        \"description\": \"\"\n      }\n    },\n    {\n      \"column\": \"investor_count\",\n      \"properties\": {\n        \"dtype\": \"number\",\n        \"std\": 1,\n        \"min\": 1,\n        \"max\": 10,\n        \"num_unique_values\": 10,\n        \"samples\": [\n          9,\n          3,\n          10\n        ],\n        \"semantic_type\": \"\",\n        \"description\": \"\"\n      }\n    },\n    {\n      \"column\": \"Industry_Vertical_encoded\",\n      \"properties\": {\n        \"dtype\": \"number\",\n        \"std\": 6,\n        \"min\": 0,\n        \"max\": 28,\n        \"num_unique_values\": 29,\n        \"samples\": [\n          27,\n          16,\n          12\n        ],\n        \"semantic_type\": \"\",\n        \"description\": \"\"\n      }\n    },\n    {\n      \"column\": \"City_Location_encoded\",\n      \"properties\": {\n        \"dtype\": \"number\",\n        \"std\": 5,\n        \"min\": 0,\n        \"max\": 42,\n        \"num_unique_values\": 43,\n        \"samples\": [\n          37,\n          24,\n          25\n        ],\n        \"semantic_type\": \"\",\n        \"description\": \"\"\n      }\n    },\n    {\n      \"column\": \"Investment_Type_encoded\",\n      \"properties\": {\n        \"dtype\": \"number\",\n        \"std\": 1,\n        \"min\": 0,\n        \"max\": 15,\n        \"num_unique_values\": 16,\n        \"samples\": [\n          0,\n          1,\n          5\n        ],\n        \"semantic_type\": \"\",\n        \"description\": \"\"\n      }\n    }\n  ]\n}"
            }
          },
          "metadata": {},
          "execution_count": 13
        }
      ]
    },
    {
      "cell_type": "code",
      "source": [
        "\n",
        "import matplotlib.pyplot as plt\n",
        "import numpy as np\n",
        "\n",
        "plt.figure(figsize=(14, 4))\n",
        "\n",
        "# 1. Original\n",
        "plt.subplot(1, 3, 1)\n",
        "df['Amount_USD'].hist(bins=50)\n",
        "plt.title('Original Amount')\n",
        "\n",
        "# 2. log1p\n",
        "plt.subplot(1, 3, 2)\n",
        "np.log1p(df['Amount_USD']).hist(bins=50)\n",
        "plt.title('After log1p')\n",
        "\n",
        "# 3. log1p(log1p)\n",
        "plt.subplot(1, 3, 3)\n",
        "np.log1p(np.log1p(df['Amount_USD'])).hist(bins=50)\n",
        "plt.title('After double log1p')\n",
        "\n",
        "# Show all at once\n",
        "plt.tight_layout()\n",
        "plt.show()\n"
      ],
      "metadata": {
        "colab": {
          "base_uri": "https://localhost:8080/",
          "height": 407
        },
        "id": "bMC-4bf650YZ",
        "outputId": "e5708333-623c-4045-b7d8-56f404124e7f"
      },
      "execution_count": 14,
      "outputs": [
        {
          "output_type": "display_data",
          "data": {
            "text/plain": [
              "<Figure size 1400x400 with 3 Axes>"
            ],
            "image/png": "[encoded data removed]"
          },
          "metadata": {}
        }
      ]
    },
    {
      "cell_type": "markdown",
      "source": [
        "- Startup funding data is right-skewed — most companies raise small amounts, but a few raise huge sums.\n",
        "\n",
        "- Applying log1p() compresses large values, making the distribution more balanced and normal.\n",
        "\n",
        "\n",
        "---\n",
        "\n"
      ],
      "metadata": {
        "id": "EftZcjad9hUM"
      }
    },
    {
      "cell_type": "code",
      "source": [
        "df['Amount_USD'] = np.log1p(np.log1p(df['Amount_USD']))\n"
      ],
      "metadata": {
        "id": "dR_BShIR7WlT"
      },
      "execution_count": 15,
      "outputs": []
    },
    {
      "cell_type": "code",
      "source": [
        "#range of values in amount\n",
        "df['Amount_USD'].describe()"
      ],
      "metadata": {
        "colab": {
          "base_uri": "https://localhost:8080/",
          "height": 335
        },
        "id": "NGnNoX10VI0A",
        "outputId": "038671a0-a933-47ab-d66d-a4c9b4b61106"
      },
      "execution_count": 16,
      "outputs": [
        {
          "output_type": "execute_result",
          "data": {
            "text/plain": [
              "count    2873.000000\n",
              "mean        2.747486\n",
              "std         0.114856\n",
              "min         2.379378\n",
              "25%         2.695675\n",
              "50%         2.723937\n",
              "75%         2.840136\n",
              "max         3.139150\n",
              "Name: Amount_USD, dtype: float64"
            ],
            "text/html": [
              "<div>\n",
              "<style scoped>\n",
              "    .dataframe tbody tr th:only-of-type {\n",
              "        vertical-align: middle;\n",
              "    }\n",
              "\n",
              "    .dataframe tbody tr th {\n",
              "        vertical-align: top;\n",
              "    }\n",
              "\n",
              "    .dataframe thead th {\n",
              "        text-align: right;\n",
              "    }\n",
              "</style>\n",
              "<table border=\"1\" class=\"dataframe\">\n",
              "  <thead>\n",
              "    <tr style=\"text-align: right;\">\n",
              "      <th></th>\n",
              "      <th>Amount_USD</th>\n",
              "    </tr>\n",
              "  </thead>\n",
              "  <tbody>\n",
              "    <tr>\n",
              "      <th>count</th>\n",
              "      <td>2873.000000</td>\n",
              "    </tr>\n",
              "    <tr>\n",
              "      <th>mean</th>\n",
              "      <td>2.747486</td>\n",
              "    </tr>\n",
              "    <tr>\n",
              "      <th>std</th>\n",
              "      <td>0.114856</td>\n",
              "    </tr>\n",
              "    <tr>\n",
              "      <th>min</th>\n",
              "      <td>2.379378</td>\n",
              "    </tr>\n",
              "    <tr>\n",
              "      <th>25%</th>\n",
              "      <td>2.695675</td>\n",
              "    </tr>\n",
              "    <tr>\n",
              "      <th>50%</th>\n",
              "      <td>2.723937</td>\n",
              "    </tr>\n",
              "    <tr>\n",
              "      <th>75%</th>\n",
              "      <td>2.840136</td>\n",
              "    </tr>\n",
              "    <tr>\n",
              "      <th>max</th>\n",
              "      <td>3.139150</td>\n",
              "    </tr>\n",
              "  </tbody>\n",
              "</table>\n",
              "</div><br><label><b>dtype:</b> float64</label>"
            ]
          },
          "metadata": {},
          "execution_count": 16
        }
      ]
    },
    {
      "cell_type": "markdown",
      "source": [
        "REMOVING OUTLIERS"
      ],
      "metadata": {
        "id": "ypU15DCy5Q77"
      }
    },
    {
      "cell_type": "code",
      "source": [
        "data=df['investor_count']\n",
        "\n",
        "q1=np.percentile(data,25)\n",
        "q3=np.percentile(data,75)\n",
        "IQR=q3-q1\n",
        "print(f'IQR:{IQR}')\n",
        "lowwiskers=q1-1.5*IQR\n",
        "highwiskers=q3+1.5*IQR\n",
        "print(f'lowwiskers:{lowwiskers}')\n",
        "print(f'highwiskers:{highwiskers}')\n",
        "no_outliers=df[(df['investor_count']>=lowwiskers) & (df['investor_count']<=highwiskers)]\n",
        "\n",
        "no_outliers"
      ],
      "metadata": {
        "colab": {
          "base_uri": "https://localhost:8080/",
          "height": 776
        },
        "id": "2dY3zNf65QnY",
        "outputId": "499a7850-8d78-4be0-9aad-f6c8bcacf9b6"
      },
      "execution_count": 17,
      "outputs": [
        {
          "output_type": "stream",
          "name": "stdout",
          "text": [
            "IQR:1.0\n",
            "lowwiskers:-0.5\n",
            "highwiskers:3.5\n"
          ]
        },
        {
          "output_type": "execute_result",
          "data": {
            "text/plain": [
              "            Date                  Startup_Name Industry_Vertical  \\\n",
              "0     2020-01-09                        BYJU’S            EdTech   \n",
              "1     2020-01-02  https://www.wealthbucket.in/           FinTech   \n",
              "2     2020-01-02                        Fashor        Technology   \n",
              "3     2020-01-13                        Shuttl        Technology   \n",
              "4     2020-01-09                     Mamaearth        Technology   \n",
              "...          ...                           ...               ...   \n",
              "2868  2015-04-11                        Zomato        Technology   \n",
              "2869  2015-04-10                     iMMi Life        Technology   \n",
              "2870  2015-04-28                  Urban Ladder        Home Decor   \n",
              "2871  2015-04-28                      Babajobs        Technology   \n",
              "2872  2015-04-27                         GIBBS         CleanTech   \n",
              "\n",
              "                                SubVertical City_Location  \\\n",
              "0                                E-learning     Bangalore   \n",
              "1                         Online Investment     New Delhi   \n",
              "2               Embroiled Clothes For Women        Mumbai   \n",
              "3                 App based shuttle service       Gurgaon   \n",
              "4     Retailer of baby and toddler products     Bangalore   \n",
              "...                                     ...           ...   \n",
              "2868                                Unknown       Gurgaon   \n",
              "2869                                Unknown       Chennai   \n",
              "2870                                Unknown     Bangalore   \n",
              "2871                                Unknown     Bangalore   \n",
              "2872                                Unknown     New Delhi   \n",
              "\n",
              "                          Investors_Name Investment_Type  Amount_USD  \\\n",
              "0                Tiger Global Management  Private Equity    3.001408   \n",
              "1                         Vinod Khatumal    Pre-Series A    2.767207   \n",
              "2                Sprout Venture Partners    Seed Funding    2.734582   \n",
              "3              Susquehanna Growth Equity        Series C    2.827372   \n",
              "4                  Sequoia Capital India        Series B    2.875011   \n",
              "...                                  ...             ...         ...   \n",
              "2868                   Info Edge (India)  Private Equity    2.892280   \n",
              "2869                    Unitus Seed Fund    Seed Funding    2.723937   \n",
              "2870  Anand Rajaraman, Venky Harinarayan  Private Equity    2.894016   \n",
              "2871               SEEK Ltd & affiliates  Private Equity    2.840136   \n",
              "2872                Infuse Ventures fund  Private Equity    2.894016   \n",
              "\n",
              "         Remarks  Year amount_category  investor_count  \\\n",
              "0      No Remark  2020            High               1   \n",
              "1      No Remark  2020          Medium               1   \n",
              "2      No Remark  2020          Medium               1   \n",
              "3      No Remark  2020          Medium               1   \n",
              "4      No Remark  2020            High               1   \n",
              "...          ...   ...             ...             ...   \n",
              "2868  Late Stage  2015            High               1   \n",
              "2869   No Remark  2015          Medium               1   \n",
              "2870    Series D  2015            High               2   \n",
              "2871    Series B  2015          Medium               1   \n",
              "2872    Series B  2015            High               1   \n",
              "\n",
              "      Industry_Vertical_encoded  City_Location_encoded  \\\n",
              "0                             0                      0   \n",
              "1                             1                      1   \n",
              "2                             2                      2   \n",
              "3                             2                      3   \n",
              "4                             2                      0   \n",
              "...                         ...                    ...   \n",
              "2868                          2                      3   \n",
              "2869                          2                      4   \n",
              "2870                         27                      0   \n",
              "2871                          2                      0   \n",
              "2872                         17                      1   \n",
              "\n",
              "      Investment_Type_encoded  \n",
              "0                           0  \n",
              "1                           1  \n",
              "2                           2  \n",
              "3                           3  \n",
              "4                           4  \n",
              "...                       ...  \n",
              "2868                        0  \n",
              "2869                        2  \n",
              "2870                        0  \n",
              "2871                        0  \n",
              "2872                        0  \n",
              "\n",
              "[2488 rows x 15 columns]"
            ],
            "text/html": [
              "\n",
              "  <div id=\"df-9fcf4558-12a0-485c-b24c-cdf78bcadde0\" class=\"colab-df-container\">\n",
              "    <div>\n",
              "<style scoped>\n",
              "    .dataframe tbody tr th:only-of-type {\n",
              "        vertical-align: middle;\n",
              "    }\n",
              "\n",
              "    .dataframe tbody tr th {\n",
              "        vertical-align: top;\n",
              "    }\n",
              "\n",
              "    .dataframe thead th {\n",
              "        text-align: right;\n",
              "    }\n",
              "</style>\n",
              "<table border=\"1\" class=\"dataframe\">\n",
              "  <thead>\n",
              "    <tr style=\"text-align: right;\">\n",
              "      <th></th>\n",
              "      <th>Date</th>\n",
              "      <th>Startup_Name</th>\n",
              "      <th>Industry_Vertical</th>\n",
              "      <th>SubVertical</th>\n",
              "      <th>City_Location</th>\n",
              "      <th>Investors_Name</th>\n",
              "      <th>Investment_Type</th>\n",
              "      <th>Amount_USD</th>\n",
              "      <th>Remarks</th>\n",
              "      <th>Year</th>\n",
              "      <th>amount_category</th>\n",
              "      <th>investor_count</th>\n",
              "      <th>Industry_Vertical_encoded</th>\n",
              "      <th>City_Location_encoded</th>\n",
              "      <th>Investment_Type_encoded</th>\n",
              "    </tr>\n",
              "  </thead>\n",
              "  <tbody>\n",
              "    <tr>\n",
              "      <th>0</th>\n",
              "      <td>2020-01-09</td>\n",
              "      <td>BYJU’S</td>\n",
              "      <td>EdTech</td>\n",
              "      <td>E-learning</td>\n",
              "      <td>Bangalore</td>\n",
              "      <td>Tiger Global Management</td>\n",
              "      <td>Private Equity</td>\n",
              "      <td>3.001408</td>\n",
              "      <td>No Remark</td>\n",
              "      <td>2020</td>\n",
              "      <td>High</td>\n",
              "      <td>1</td>\n",
              "      <td>0</td>\n",
              "      <td>0</td>\n",
              "      <td>0</td>\n",
              "    </tr>\n",
              "    <tr>\n",
              "      <th>1</th>\n",
              "      <td>2020-01-02</td>\n",
              "      <td>https://www.wealthbucket.in/</td>\n",
              "      <td>FinTech</td>\n",
              "      <td>Online Investment</td>\n",
              "      <td>New Delhi</td>\n",
              "      <td>Vinod Khatumal</td>\n",
              "      <td>Pre-Series A</td>\n",
              "      <td>2.767207</td>\n",
              "      <td>No Remark</td>\n",
              "      <td>2020</td>\n",
              "      <td>Medium</td>\n",
              "      <td>1</td>\n",
              "      <td>1</td>\n",
              "      <td>1</td>\n",
              "      <td>1</td>\n",
              "    </tr>\n",
              "    <tr>\n",
              "      <th>2</th>\n",
              "      <td>2020-01-02</td>\n",
              "      <td>Fashor</td>\n",
              "      <td>Technology</td>\n",
              "      <td>Embroiled Clothes For Women</td>\n",
              "      <td>Mumbai</td>\n",
              "      <td>Sprout Venture Partners</td>\n",
              "      <td>Seed Funding</td>\n",
              "      <td>2.734582</td>\n",
              "      <td>No Remark</td>\n",
              "      <td>2020</td>\n",
              "      <td>Medium</td>\n",
              "      <td>1</td>\n",
              "      <td>2</td>\n",
              "      <td>2</td>\n",
              "      <td>2</td>\n",
              "    </tr>\n",
              "    <tr>\n",
              "      <th>3</th>\n",
              "      <td>2020-01-13</td>\n",
              "      <td>Shuttl</td>\n",
              "      <td>Technology</td>\n",
              "      <td>App based shuttle service</td>\n",
              "      <td>Gurgaon</td>\n",
              "      <td>Susquehanna Growth Equity</td>\n",
              "      <td>Series C</td>\n",
              "      <td>2.827372</td>\n",
              "      <td>No Remark</td>\n",
              "      <td>2020</td>\n",
              "      <td>Medium</td>\n",
              "      <td>1</td>\n",
              "      <td>2</td>\n",
              "      <td>3</td>\n",
              "      <td>3</td>\n",
              "    </tr>\n",
              "    <tr>\n",
              "      <th>4</th>\n",
              "      <td>2020-01-09</td>\n",
              "      <td>Mamaearth</td>\n",
              "      <td>Technology</td>\n",
              "      <td>Retailer of baby and toddler products</td>\n",
              "      <td>Bangalore</td>\n",
              "      <td>Sequoia Capital India</td>\n",
              "      <td>Series B</td>\n",
              "      <td>2.875011</td>\n",
              "      <td>No Remark</td>\n",
              "      <td>2020</td>\n",
              "      <td>High</td>\n",
              "      <td>1</td>\n",
              "      <td>2</td>\n",
              "      <td>0</td>\n",
              "      <td>4</td>\n",
              "    </tr>\n",
              "    <tr>\n",
              "      <th>...</th>\n",
              "      <td>...</td>\n",
              "      <td>...</td>\n",
              "      <td>...</td>\n",
              "      <td>...</td>\n",
              "      <td>...</td>\n",
              "      <td>...</td>\n",
              "      <td>...</td>\n",
              "      <td>...</td>\n",
              "      <td>...</td>\n",
              "      <td>...</td>\n",
              "      <td>...</td>\n",
              "      <td>...</td>\n",
              "      <td>...</td>\n",
              "      <td>...</td>\n",
              "      <td>...</td>\n",
              "    </tr>\n",
              "    <tr>\n",
              "      <th>2868</th>\n",
              "      <td>2015-04-11</td>\n",
              "      <td>Zomato</td>\n",
              "      <td>Technology</td>\n",
              "      <td>Unknown</td>\n",
              "      <td>Gurgaon</td>\n",
              "      <td>Info Edge (India)</td>\n",
              "      <td>Private Equity</td>\n",
              "      <td>2.892280</td>\n",
              "      <td>Late Stage</td>\n",
              "      <td>2015</td>\n",
              "      <td>High</td>\n",
              "      <td>1</td>\n",
              "      <td>2</td>\n",
              "      <td>3</td>\n",
              "      <td>0</td>\n",
              "    </tr>\n",
              "    <tr>\n",
              "      <th>2869</th>\n",
              "      <td>2015-04-10</td>\n",
              "      <td>iMMi Life</td>\n",
              "      <td>Technology</td>\n",
              "      <td>Unknown</td>\n",
              "      <td>Chennai</td>\n",
              "      <td>Unitus Seed Fund</td>\n",
              "      <td>Seed Funding</td>\n",
              "      <td>2.723937</td>\n",
              "      <td>No Remark</td>\n",
              "      <td>2015</td>\n",
              "      <td>Medium</td>\n",
              "      <td>1</td>\n",
              "      <td>2</td>\n",
              "      <td>4</td>\n",
              "      <td>2</td>\n",
              "    </tr>\n",
              "    <tr>\n",
              "      <th>2870</th>\n",
              "      <td>2015-04-28</td>\n",
              "      <td>Urban Ladder</td>\n",
              "      <td>Home Decor</td>\n",
              "      <td>Unknown</td>\n",
              "      <td>Bangalore</td>\n",
              "      <td>Anand Rajaraman, Venky Harinarayan</td>\n",
              "      <td>Private Equity</td>\n",
              "      <td>2.894016</td>\n",
              "      <td>Series D</td>\n",
              "      <td>2015</td>\n",
              "      <td>High</td>\n",
              "      <td>2</td>\n",
              "      <td>27</td>\n",
              "      <td>0</td>\n",
              "      <td>0</td>\n",
              "    </tr>\n",
              "    <tr>\n",
              "      <th>2871</th>\n",
              "      <td>2015-04-28</td>\n",
              "      <td>Babajobs</td>\n",
              "      <td>Technology</td>\n",
              "      <td>Unknown</td>\n",
              "      <td>Bangalore</td>\n",
              "      <td>SEEK Ltd &amp; affiliates</td>\n",
              "      <td>Private Equity</td>\n",
              "      <td>2.840136</td>\n",
              "      <td>Series B</td>\n",
              "      <td>2015</td>\n",
              "      <td>Medium</td>\n",
              "      <td>1</td>\n",
              "      <td>2</td>\n",
              "      <td>0</td>\n",
              "      <td>0</td>\n",
              "    </tr>\n",
              "    <tr>\n",
              "      <th>2872</th>\n",
              "      <td>2015-04-27</td>\n",
              "      <td>GIBBS</td>\n",
              "      <td>CleanTech</td>\n",
              "      <td>Unknown</td>\n",
              "      <td>New Delhi</td>\n",
              "      <td>Infuse Ventures fund</td>\n",
              "      <td>Private Equity</td>\n",
              "      <td>2.894016</td>\n",
              "      <td>Series B</td>\n",
              "      <td>2015</td>\n",
              "      <td>High</td>\n",
              "      <td>1</td>\n",
              "      <td>17</td>\n",
              "      <td>1</td>\n",
              "      <td>0</td>\n",
              "    </tr>\n",
              "  </tbody>\n",
              "</table>\n",
              "<p>2488 rows × 15 columns</p>\n",
              "</div>\n",
              "    <div class=\"colab-df-buttons\">\n",
              "\n",
              "  <div class=\"colab-df-container\">\n",
              "    <button class=\"colab-df-convert\" onclick=\"convertToInteractive('df-9fcf4558-12a0-485c-b24c-cdf78bcadde0')\"\n",
              "            title=\"Convert this dataframe to an interactive table.\"\n",
              "            style=\"display:none;\">\n",
              "\n",
              "  <svg xmlns=\"http://www.w3.org/2000/svg\" height=\"24px\" viewBox=\"0 -960 960 960\">\n",
              "    <path d=\"M120-120v-720h720v720H120Zm60-500h600v-160H180v160Zm220 220h160v-160H400v160Zm0 220h160v-160H400v160ZM180-400h160v-160H180v160Zm440 0h160v-160H620v160ZM180-180h160v-160H180v160Zm440 0h160v-160H620v160Z\"/>\n",
              "  </svg>\n",
              "    </button>\n",
              "\n",
              "  <style>\n",
              "    .colab-df-container {\n",
              "      display:flex;\n",
              "      gap: 12px;\n",
              "    }\n",
              "\n",
              "    .colab-df-convert {\n",
              "      background-color: #E8F0FE;\n",
              "      border: none;\n",
              "      border-radius: 50%;\n",
              "      cursor: pointer;\n",
              "      display: none;\n",
              "      fill: #1967D2;\n",
              "      height: 32px;\n",
              "      padding: 0 0 0 0;\n",
              "      width: 32px;\n",
              "    }\n",
              "\n",
              "    .colab-df-convert:hover {\n",
              "      background-color: #E2EBFA;\n",
              "      box-shadow: 0px 1px 2px rgba(60, 64, 67, 0.3), 0px 1px 3px 1px rgba(60, 64, 67, 0.15);\n",
              "      fill: #174EA6;\n",
              "    }\n",
              "\n",
              "    .colab-df-buttons div {\n",
              "      margin-bottom: 4px;\n",
              "    }\n",
              "\n",
              "    [theme=dark] .colab-df-convert {\n",
              "      background-color: #3B4455;\n",
              "      fill: #D2E3FC;\n",
              "    }\n",
              "\n",
              "    [theme=dark] .colab-df-convert:hover {\n",
              "      background-color: #434B5C;\n",
              "      box-shadow: 0px 1px 3px 1px rgba(0, 0, 0, 0.15);\n",
              "      filter: drop-shadow(0px 1px 2px rgba(0, 0, 0, 0.3));\n",
              "      fill: #FFFFFF;\n",
              "    }\n",
              "  </style>\n",
              "\n",
              "    <script>\n",
              "      const buttonEl =\n",
              "        document.querySelector('#df-9fcf4558-12a0-485c-b24c-cdf78bcadde0 button.colab-df-convert');\n",
              "      buttonEl.style.display =\n",
              "        google.colab.kernel.accessAllowed ? 'block' : 'none';\n",
              "\n",
              "      async function convertToInteractive(key) {\n",
              "        const element = document.querySelector('#df-9fcf4558-12a0-485c-b24c-cdf78bcadde0');\n",
              "        const dataTable =\n",
              "          await google.colab.kernel.invokeFunction('convertToInteractive',\n",
              "                                                    [key], {});\n",
              "        if (!dataTable) return;\n",
              "\n",
              "        const docLinkHtml = 'Like what you see? Visit the ' +\n",
              "          '<a target=\"_blank\" href=https://colab.research.google.com/notebooks/data_table.ipynb>data table notebook</a>'\n",
              "          + ' to learn more about interactive tables.';\n",
              "        element.innerHTML = '';\n",
              "        dataTable['output_type'] = 'display_data';\n",
              "        await google.colab.output.renderOutput(dataTable, element);\n",
              "        const docLink = document.createElement('div');\n",
              "        docLink.innerHTML = docLinkHtml;\n",
              "        element.appendChild(docLink);\n",
              "      }\n",
              "    </script>\n",
              "  </div>\n",
              "\n",
              "\n",
              "    <div id=\"df-62c938b1-990e-4ce7-abd7-bf42903fb3ee\">\n",
              "      <button class=\"colab-df-quickchart\" onclick=\"quickchart('df-62c938b1-990e-4ce7-abd7-bf42903fb3ee')\"\n",
              "                title=\"Suggest charts\"\n",
              "                style=\"display:none;\">\n",
              "\n",
              "<svg xmlns=\"http://www.w3.org/2000/svg\" height=\"24px\"viewBox=\"0 0 24 24\"\n",
              "     width=\"24px\">\n",
              "    <g>\n",
              "        <path d=\"M19 3H5c-1.1 0-2 .9-2 2v14c0 1.1.9 2 2 2h14c1.1 0 2-.9 2-2V5c0-1.1-.9-2-2-2zM9 17H7v-7h2v7zm4 0h-2V7h2v10zm4 0h-2v-4h2v4z\"/>\n",
              "    </g>\n",
              "</svg>\n",
              "      </button>\n",
              "\n",
              "<style>\n",
              "  .colab-df-quickchart {\n",
              "      --bg-color: #E8F0FE;\n",
              "      --fill-color: #1967D2;\n",
              "      --hover-bg-color: #E2EBFA;\n",
              "      --hover-fill-color: #174EA6;\n",
              "      --disabled-fill-color: #AAA;\n",
              "      --disabled-bg-color: #DDD;\n",
              "  }\n",
              "\n",
              "  [theme=dark] .colab-df-quickchart {\n",
              "      --bg-color: #3B4455;\n",
              "      --fill-color: #D2E3FC;\n",
              "      --hover-bg-color: #434B5C;\n",
              "      --hover-fill-color: #FFFFFF;\n",
              "      --disabled-bg-color: #3B4455;\n",
              "      --disabled-fill-color: #666;\n",
              "  }\n",
              "\n",
              "  .colab-df-quickchart {\n",
              "    background-color: var(--bg-color);\n",
              "    border: none;\n",
              "    border-radius: 50%;\n",
              "    cursor: pointer;\n",
              "    display: none;\n",
              "    fill: var(--fill-color);\n",
              "    height: 32px;\n",
              "    padding: 0;\n",
              "    width: 32px;\n",
              "  }\n",
              "\n",
              "  .colab-df-quickchart:hover {\n",
              "    background-color: var(--hover-bg-color);\n",
              "    box-shadow: 0 1px 2px rgba(60, 64, 67, 0.3), 0 1px 3px 1px rgba(60, 64, 67, 0.15);\n",
              "    fill: var(--button-hover-fill-color);\n",
              "  }\n",
              "\n",
              "  .colab-df-quickchart-complete:disabled,\n",
              "  .colab-df-quickchart-complete:disabled:hover {\n",
              "    background-color: var(--disabled-bg-color);\n",
              "    fill: var(--disabled-fill-color);\n",
              "    box-shadow: none;\n",
              "  }\n",
              "\n",
              "  .colab-df-spinner {\n",
              "    border: 2px solid var(--fill-color);\n",
              "    border-color: transparent;\n",
              "    border-bottom-color: var(--fill-color);\n",
              "    animation:\n",
              "      spin 1s steps(1) infinite;\n",
              "  }\n",
              "\n",
              "  @keyframes spin {\n",
              "    0% {\n",
              "      border-color: transparent;\n",
              "      border-bottom-color: var(--fill-color);\n",
              "      border-left-color: var(--fill-color);\n",
              "    }\n",
              "    20% {\n",
              "      border-color: transparent;\n",
              "      border-left-color: var(--fill-color);\n",
              "      border-top-color: var(--fill-color);\n",
              "    }\n",
              "    30% {\n",
              "      border-color: transparent;\n",
              "      border-left-color: var(--fill-color);\n",
              "      border-top-color: var(--fill-color);\n",
              "      border-right-color: var(--fill-color);\n",
              "    }\n",
              "    40% {\n",
              "      border-color: transparent;\n",
              "      border-right-color: var(--fill-color);\n",
              "      border-top-color: var(--fill-color);\n",
              "    }\n",
              "    60% {\n",
              "      border-color: transparent;\n",
              "      border-right-color: var(--fill-color);\n",
              "    }\n",
              "    80% {\n",
              "      border-color: transparent;\n",
              "      border-right-color: var(--fill-color);\n",
              "      border-bottom-color: var(--fill-color);\n",
              "    }\n",
              "    90% {\n",
              "      border-color: transparent;\n",
              "      border-bottom-color: var(--fill-color);\n",
              "    }\n",
              "  }\n",
              "</style>\n",
              "\n",
              "      <script>\n",
              "        async function quickchart(key) {\n",
              "          const quickchartButtonEl =\n",
              "            document.querySelector('#' + key + ' button');\n",
              "          quickchartButtonEl.disabled = true;  // To prevent multiple clicks.\n",
              "          quickchartButtonEl.classList.add('colab-df-spinner');\n",
              "          try {\n",
              "            const charts = await google.colab.kernel.invokeFunction(\n",
              "                'suggestCharts', [key], {});\n",
              "          } catch (error) {\n",
              "            console.error('Error during call to suggestCharts:', error);\n",
              "          }\n",
              "          quickchartButtonEl.classList.remove('colab-df-spinner');\n",
              "          quickchartButtonEl.classList.add('colab-df-quickchart-complete');\n",
              "        }\n",
              "        (() => {\n",
              "          let quickchartButtonEl =\n",
              "            document.querySelector('#df-62c938b1-990e-4ce7-abd7-bf42903fb3ee button');\n",
              "          quickchartButtonEl.style.display =\n",
              "            google.colab.kernel.accessAllowed ? 'block' : 'none';\n",
              "        })();\n",
              "      </script>\n",
              "    </div>\n",
              "\n",
              "  <div id=\"id_b03c7ba5-0eb2-45f4-9c64-0ebe970c16ac\">\n",
              "    <style>\n",
              "      .colab-df-generate {\n",
              "        background-color: #E8F0FE;\n",
              "        border: none;\n",
              "        border-radius: 50%;\n",
              "        cursor: pointer;\n",
              "        display: none;\n",
              "        fill: #1967D2;\n",
              "        height: 32px;\n",
              "        padding: 0 0 0 0;\n",
              "        width: 32px;\n",
              "      }\n",
              "\n",
              "      .colab-df-generate:hover {\n",
              "        background-color: #E2EBFA;\n",
              "        box-shadow: 0px 1px 2px rgba(60, 64, 67, 0.3), 0px 1px 3px 1px rgba(60, 64, 67, 0.15);\n",
              "        fill: #174EA6;\n",
              "      }\n",
              "\n",
              "      [theme=dark] .colab-df-generate {\n",
              "        background-color: #3B4455;\n",
              "        fill: #D2E3FC;\n",
              "      }\n",
              "\n",
              "      [theme=dark] .colab-df-generate:hover {\n",
              "        background-color: #434B5C;\n",
              "        box-shadow: 0px 1px 3px 1px rgba(0, 0, 0, 0.15);\n",
              "        filter: drop-shadow(0px 1px 2px rgba(0, 0, 0, 0.3));\n",
              "        fill: #FFFFFF;\n",
              "      }\n",
              "    </style>\n",
              "    <button class=\"colab-df-generate\" onclick=\"generateWithVariable('no_outliers')\"\n",
              "            title=\"Generate code using this dataframe.\"\n",
              "            style=\"display:none;\">\n",
              "\n",
              "  <svg xmlns=\"http://www.w3.org/2000/svg\" height=\"24px\"viewBox=\"0 0 24 24\"\n",
              "       width=\"24px\">\n",
              "    <path d=\"M7,19H8.4L18.45,9,17,7.55,7,17.6ZM5,21V16.75L18.45,3.32a2,2,0,0,1,2.83,0l1.4,1.43a1.91,1.91,0,0,1,.58,1.4,1.91,1.91,0,0,1-.58,1.4L9.25,21ZM18.45,9,17,7.55Zm-12,3A5.31,5.31,0,0,0,4.9,8.1,5.31,5.31,0,0,0,1,6.5,5.31,5.31,0,0,0,4.9,4.9,5.31,5.31,0,0,0,6.5,1,5.31,5.31,0,0,0,8.1,4.9,5.31,5.31,0,0,0,12,6.5,5.46,5.46,0,0,0,6.5,12Z\"/>\n",
              "  </svg>\n",
              "    </button>\n",
              "    <script>\n",
              "      (() => {\n",
              "      const buttonEl =\n",
              "        document.querySelector('#id_b03c7ba5-0eb2-45f4-9c64-0ebe970c16ac button.colab-df-generate');\n",
              "      buttonEl.style.display =\n",
              "        google.colab.kernel.accessAllowed ? 'block' : 'none';\n",
              "\n",
              "      buttonEl.onclick = () => {\n",
              "        google.colab.notebook.generateWithVariable('no_outliers');\n",
              "      }\n",
              "      })();\n",
              "    </script>\n",
              "  </div>\n",
              "\n",
              "    </div>\n",
              "  </div>\n"
            ],
            "application/vnd.google.colaboratory.intrinsic+json": {
              "type": "dataframe",
              "variable_name": "no_outliers",
              "summary": "{\n  \"name\": \"no_outliers\",\n  \"rows\": 2488,\n  \"fields\": [\n    {\n      \"column\": \"Date\",\n      \"properties\": {\n        \"dtype\": \"object\",\n        \"num_unique_values\": 931,\n        \"samples\": [\n          \"2015-09-25\",\n          \"2018-01-22\",\n          \"2016-05-16\"\n        ],\n        \"semantic_type\": \"\",\n        \"description\": \"\"\n      }\n    },\n    {\n      \"column\": \"Startup_Name\",\n      \"properties\": {\n        \"dtype\": \"string\",\n        \"num_unique_values\": 2093,\n        \"samples\": [\n          \"AHA Taxis\",\n          \"kredX\",\n          \"MessaGif\"\n        ],\n        \"semantic_type\": \"\",\n        \"description\": \"\"\n      }\n    },\n    {\n      \"column\": \"Industry_Vertical\",\n      \"properties\": {\n        \"dtype\": \"category\",\n        \"num_unique_values\": 29,\n        \"samples\": [\n          \"Home Decor\",\n          \"Real Estate\",\n          \"Healthcare\"\n        ],\n        \"semantic_type\": \"\",\n        \"description\": \"\"\n      }\n    },\n    {\n      \"column\": \"SubVertical\",\n      \"properties\": {\n        \"dtype\": \"string\",\n        \"num_unique_values\": 1682,\n        \"samples\": [\n          \"Healthcare training programs\",\n          \"Health Diagnostic Solutions\",\n          \"B2B commerce Marketplace\"\n        ],\n        \"semantic_type\": \"\",\n        \"description\": \"\"\n      }\n    },\n    {\n      \"column\": \"City_Location\",\n      \"properties\": {\n        \"dtype\": \"category\",\n        \"num_unique_values\": 42,\n        \"samples\": [\n          \"Karur\",\n          \"Nagpur\",\n          \"Faridabad\"\n        ],\n        \"semantic_type\": \"\",\n        \"description\": \"\"\n      }\n    },\n    {\n      \"column\": \"Investors_Name\",\n      \"properties\": {\n        \"dtype\": \"string\",\n        \"num_unique_values\": 1905,\n        \"samples\": [\n          \"Mount Nathan Advisors\",\n          \"Wargburg Pincus, Sequoia\",\n          \"LGT Group, Asian Healthcare fund, Seedfund\"\n        ],\n        \"semantic_type\": \"\",\n        \"description\": \"\"\n      }\n    },\n    {\n      \"column\": \"Investment_Type\",\n      \"properties\": {\n        \"dtype\": \"category\",\n        \"num_unique_values\": 16,\n        \"samples\": [\n          \"Private Equity\",\n          \"Pre-Series A\",\n          \"Series A\"\n        ],\n        \"semantic_type\": \"\",\n        \"description\": \"\"\n      }\n    },\n    {\n      \"column\": \"Amount_USD\",\n      \"properties\": {\n        \"dtype\": \"number\",\n        \"std\": 0.11559446948722292,\n        \"min\": 2.379377841348507,\n        \"max\": 3.1391502371548126,\n        \"num_unique_values\": 403,\n        \"samples\": [\n          2.8720170033954835,\n          2.425597630354696,\n          2.9360280359648367\n        ],\n        \"semantic_type\": \"\",\n        \"description\": \"\"\n      }\n    },\n    {\n      \"column\": \"Remarks\",\n      \"properties\": {\n        \"dtype\": \"category\",\n        \"num_unique_values\": 51,\n        \"samples\": [\n          \"Late Stage, 10th Round More here\",\n          \"\\\\\\\\xc2\\\\\\\\xa0Series B\",\n          \"Bridge Round Pre-Series B\"\n        ],\n        \"semantic_type\": \"\",\n        \"description\": \"\"\n      }\n    },\n    {\n      \"column\": \"Year\",\n      \"properties\": {\n        \"dtype\": \"number\",\n        \"std\": 1,\n        \"min\": 2015,\n        \"max\": 2020,\n        \"num_unique_values\": 6,\n        \"samples\": [\n          2020,\n          2019,\n          2015\n        ],\n        \"semantic_type\": \"\",\n        \"description\": \"\"\n      }\n    },\n    {\n      \"column\": \"amount_category\",\n      \"properties\": {\n        \"dtype\": \"category\",\n        \"num_unique_values\": 3,\n        \"samples\": [\n          \"High\",\n          \"Medium\",\n          \"Low\"\n        ],\n        \"semantic_type\": \"\",\n        \"description\": \"\"\n      }\n    },\n    {\n      \"column\": \"investor_count\",\n      \"properties\": {\n        \"dtype\": \"number\",\n        \"std\": 0,\n        \"min\": 1,\n        \"max\": 3,\n        \"num_unique_values\": 3,\n        \"samples\": [\n          1,\n          3,\n          2\n        ],\n        \"semantic_type\": \"\",\n        \"description\": \"\"\n      }\n    },\n    {\n      \"column\": \"Industry_Vertical_encoded\",\n      \"properties\": {\n        \"dtype\": \"number\",\n        \"std\": 6,\n        \"min\": 0,\n        \"max\": 28,\n        \"num_unique_values\": 29,\n        \"samples\": [\n          27,\n          16,\n          11\n        ],\n        \"semantic_type\": \"\",\n        \"description\": \"\"\n      }\n    },\n    {\n      \"column\": \"City_Location_encoded\",\n      \"properties\": {\n        \"dtype\": \"number\",\n        \"std\": 5,\n        \"min\": 0,\n        \"max\": 42,\n        \"num_unique_values\": 42,\n        \"samples\": [\n          27,\n          14,\n          8\n        ],\n        \"semantic_type\": \"\",\n        \"description\": \"\"\n      }\n    },\n    {\n      \"column\": \"Investment_Type_encoded\",\n      \"properties\": {\n        \"dtype\": \"number\",\n        \"std\": 1,\n        \"min\": 0,\n        \"max\": 15,\n        \"num_unique_values\": 16,\n        \"samples\": [\n          0,\n          1,\n          5\n        ],\n        \"semantic_type\": \"\",\n        \"description\": \"\"\n      }\n    }\n  ]\n}"
            }
          },
          "metadata": {},
          "execution_count": 17
        }
      ]
    },
    {
      "cell_type": "code",
      "source": [
        "# Amount_USD outlier removal\n",
        "\n",
        "data=no_outliers['Amount_USD']\n",
        "\n",
        "q1=np.percentile(data,25)\n",
        "q3=np.percentile(data,75)\n",
        "IQR=q3-q1\n",
        "print(f'IQR:{IQR}')\n",
        "lowwiskers=q1-1.5*IQR\n",
        "highwiskers=q3+1.5*IQR\n",
        "print(f'lowwiskers:{lowwiskers}')\n",
        "print(f'highwiskers:{highwiskers}')\n",
        "no_outliers_amount = no_outliers[\n",
        "    (no_outliers['Amount_USD'] >= lowwiskers) &\n",
        "    (no_outliers['Amount_USD'] <= highwiskers)\n",
        "]\n"
      ],
      "metadata": {
        "colab": {
          "base_uri": "https://localhost:8080/"
        },
        "id": "X7ot-uws5Qcs",
        "outputId": "49efd194-0fd3-4cee-fded-e2971b7ea7e5"
      },
      "execution_count": 18,
      "outputs": [
        {
          "output_type": "stream",
          "name": "stdout",
          "text": [
            "IQR:0.14446142486671354\n",
            "lowwiskers:2.4789825728602537\n",
            "highwiskers:3.056828272327108\n"
          ]
        }
      ]
    },
    {
      "cell_type": "code",
      "source": [
        "from sklearn.linear_model import LinearRegression\n",
        "from sklearn.tree import DecisionTreeRegressor\n",
        "from sklearn.ensemble import RandomForestRegressor, GradientBoostingRegressor\n",
        "from sklearn.neighbors import KNeighborsRegressor\n",
        "from sklearn.metrics import r2_score\n",
        "from sklearn.model_selection import train_test_split\n",
        "\n",
        "# 1. Prepare features and target\n",
        "x = no_outliers_amount[['Industry_Vertical_encoded', 'City_Location_encoded', 'Investment_Type_encoded', 'investor_count', 'Year']]\n",
        "y = no_outliers_amount['Amount_USD']\n",
        "\n",
        "# 2. Train-test split\n",
        "x_train, x_test, y_train, y_test = train_test_split(x, y, test_size=0.2, random_state=42)\n",
        "\n",
        "# 3. Define models\n",
        "models = {\n",
        "    \"Linear Regression\": LinearRegression(),\n",
        "    \"Decision Tree\": DecisionTreeRegressor(),\n",
        "    \"Random Forest\": RandomForestRegressor(),\n",
        "    \"Gradient Boosting\": GradientBoostingRegressor(),\n",
        "    \"KNN Regressor\": KNeighborsRegressor()\n",
        "}\n",
        "\n",
        "# 4. Train and evaluate each model\n",
        "print(\"Model Performance (R² Score):\")\n",
        "print(\"----------------------------------\")\n",
        "for name, model in models.items():\n",
        "    model.fit(x_train, y_train)\n",
        "    y_pred = model.predict(x_test)\n",
        "    r2 = r2_score(y_test, y_pred)\n",
        "    print(f\"{name:20s}: R² = {r2:.4f}\")\n"
      ],
      "metadata": {
        "colab": {
          "base_uri": "https://localhost:8080/"
        },
        "id": "zX_69Xdb4g9R",
        "outputId": "8067152b-b1db-43b5-d9d7-5f0d787d48e5"
      },
      "execution_count": 19,
      "outputs": [
        {
          "output_type": "stream",
          "name": "stdout",
          "text": [
            "Model Performance (R² Score):\n",
            "----------------------------------\n",
            "Linear Regression   : R² = 0.1514\n",
            "Decision Tree       : R² = 0.3332\n",
            "Random Forest       : R² = 0.4467\n",
            "Gradient Boosting   : R² = 0.5317\n",
            "KNN Regressor       : R² = 0.4058\n"
          ]
        }
      ]
    },
    {
      "cell_type": "markdown",
      "source": [
        "Gradient Boosting has best r-score of 0.53."
      ],
      "metadata": {
        "id": "vriiQwcMb9Sj"
      }
    },
    {
      "cell_type": "code",
      "source": [
        "import numpy as np\n",
        "from sklearn.metrics import mean_absolute_error, mean_squared_error, r2_score\n",
        "\n",
        "# Replace with your best trained model\n",
        "best_model = GradientBoostingRegressor()\n",
        "best_model.fit(x_train, y_train)\n",
        "\n",
        "# Predict on test set\n",
        "y_pred = best_model.predict(x_test)\n",
        "\n",
        "# Reverse log transforms if needed for evaluation (if target was transformed)\n",
        "y_test_true = np.expm1(np.expm1(y_test))\n",
        "y_pred_true = np.expm1(np.expm1(y_pred))\n",
        "\n",
        "# Error Metrics\n",
        "mae = mean_absolute_error(y_test, y_pred)\n",
        "mse = mean_squared_error(y_test, y_pred)\n",
        "rmse = np.sqrt(mse)\n",
        "r2 = r2_score(y_test, y_pred)\n",
        "\n",
        "print(\"📉 Regression Error Metrics:\")\n",
        "print(f\"MAE  (Mean Absolute Error):      {mae:.2f}\")\n",
        "print(f\"MSE  (Mean Squared Error):       {mse:.2f}\")\n",
        "print(f\"RMSE (Root Mean Squared Error):  {rmse:.2f}\")\n",
        "print(f\"R² Score (Coefficient of Determination): {r2:.4f}\")\n",
        "\n",
        "\n",
        "new_input = np.array([[5, 3, 2, 4, 2021]])\n",
        "\n",
        "# Make prediction\n",
        "predicted_funding = best_model.predict(new_input)\n",
        "predicted_amount = np.expm1(np.expm1(predicted_funding))\n",
        "\n",
        "\n",
        "\n",
        "print(\"Predicted Funding Amount (USD):\", predicted_funding)\n",
        "print(f\"Predicted Funding Amount (USD): ${predicted_amount[0]:,.2f}\")"
      ],
      "metadata": {
        "colab": {
          "base_uri": "https://localhost:8080/"
        },
        "id": "K6-_HNXW41ml",
        "outputId": "3bea571f-ec8e-475f-d290-82ea3e6c0638"
      },
      "execution_count": 20,
      "outputs": [
        {
          "output_type": "stream",
          "name": "stdout",
          "text": [
            "📉 Regression Error Metrics:\n",
            "MAE  (Mean Absolute Error):      0.06\n",
            "MSE  (Mean Squared Error):       0.01\n",
            "RMSE (Root Mean Squared Error):  0.08\n",
            "R² Score (Coefficient of Determination): 0.5317\n",
            "Predicted Funding Amount (USD): [2.7768189]\n",
            "Predicted Funding Amount (USD): $3,498,433.43\n"
          ]
        },
        {
          "output_type": "stream",
          "name": "stderr",
          "text": [
            "/usr/local/lib/python3.11/dist-packages/sklearn/utils/validation.py:2739: UserWarning: X does not have valid feature names, but GradientBoostingRegressor was fitted with feature names\n",
            "  warnings.warn(\n"
          ]
        }
      ]
    },
    {
      "cell_type": "markdown",
      "source": [
        "RMSE = 0.08 (log scale) is quite good, meaning your predictions are consistently close on the transformed scale.\n",
        "\n",
        " R² = 0.53 is moderate — it’s not bad, but also not strong enough for high-accuracy tasks. It's okay for exploratory analysis or rough forecasting, but not ideal for precise funding prediction."
      ],
      "metadata": {
        "id": "ijwDvjo2vOQT"
      }
    },
    {
      "cell_type": "markdown",
      "source": [
        "CLASSIFCATION"
      ],
      "metadata": {
        "id": "5bxu0Ril-p5Y"
      }
    },
    {
      "cell_type": "code",
      "source": [
        "q1 = no_outliers_amount['Amount_USD'].quantile(0.33)\n",
        "q2 = no_outliers_amount['Amount_USD'].quantile(0.66)\n",
        "\n",
        "def balanced_category(amount):\n",
        "    if amount <= q1:\n",
        "        return 'Low'\n",
        "    elif amount <= q2:\n",
        "        return 'Medium'\n",
        "    else:\n",
        "        return 'High'\n",
        "\n",
        "no_outliers_amount['amount_category_balanced'] = no_outliers_amount['Amount_USD'].apply(balanced_category)\n"
      ],
      "metadata": {
        "colab": {
          "base_uri": "https://localhost:8080/"
        },
        "id": "NHbT57Ic-qZ3",
        "outputId": "550be5e8-9a91-4c4e-8ac2-ac6c6d29cb3f"
      },
      "execution_count": 21,
      "outputs": [
        {
          "output_type": "stream",
          "name": "stderr",
          "text": [
            "/tmp/ipython-input-295199835.py:12: SettingWithCopyWarning: \n",
            "A value is trying to be set on a copy of a slice from a DataFrame.\n",
            "Try using .loc[row_indexer,col_indexer] = value instead\n",
            "\n",
            "See the caveats in the documentation: https://pandas.pydata.org/pandas-docs/stable/user_guide/indexing.html#returning-a-view-versus-a-copy\n",
            "  no_outliers_amount['amount_category_balanced'] = no_outliers_amount['Amount_USD'].apply(balanced_category)\n"
          ]
        }
      ]
    },
    {
      "cell_type": "code",
      "source": [
        "# • Label encode categorical variables\n",
        "no_outliers_amount['amount_category_balanced'].unique()\n"
      ],
      "metadata": {
        "colab": {
          "base_uri": "https://localhost:8080/"
        },
        "id": "ljqYML2N4wB2",
        "outputId": "54bf241f-e184-40a0-99a6-b5432c58044f"
      },
      "execution_count": 22,
      "outputs": [
        {
          "output_type": "execute_result",
          "data": {
            "text/plain": [
              "array(['High', 'Medium', 'Low'], dtype=object)"
            ]
          },
          "metadata": {},
          "execution_count": 22
        }
      ]
    },
    {
      "cell_type": "code",
      "source": [
        "amount_category_encoding = {\n",
        "    'Low': 0,\n",
        "    'Medium': 1,\n",
        "    'High': 2\n",
        "}\n",
        "no_outliers_amount['amount_category_encoded'] = no_outliers_amount['amount_category_balanced'].map(amount_category_encoding)"
      ],
      "metadata": {
        "colab": {
          "base_uri": "https://localhost:8080/"
        },
        "id": "l_CTevx95TdE",
        "outputId": "2afb4a7d-b55f-40ab-dfba-b6e0af0a8492"
      },
      "execution_count": 23,
      "outputs": [
        {
          "output_type": "stream",
          "name": "stderr",
          "text": [
            "/tmp/ipython-input-2127186256.py:6: SettingWithCopyWarning: \n",
            "A value is trying to be set on a copy of a slice from a DataFrame.\n",
            "Try using .loc[row_indexer,col_indexer] = value instead\n",
            "\n",
            "See the caveats in the documentation: https://pandas.pydata.org/pandas-docs/stable/user_guide/indexing.html#returning-a-view-versus-a-copy\n",
            "  no_outliers_amount['amount_category_encoded'] = no_outliers_amount['amount_category_balanced'].map(amount_category_encoding)\n"
          ]
        }
      ]
    },
    {
      "cell_type": "code",
      "source": [
        "from sklearn.model_selection import train_test_split\n",
        "from sklearn.linear_model import LogisticRegression\n",
        "from sklearn.tree import DecisionTreeClassifier\n",
        "from sklearn.ensemble import RandomForestClassifier\n",
        "from sklearn.neighbors import KNeighborsClassifier\n",
        "from sklearn.svm import SVC\n",
        "from xgboost import XGBClassifier\n",
        "from sklearn.metrics import accuracy_score\n",
        "\n",
        "# Features and target\n",
        "from sklearn.preprocessing import StandardScaler\n",
        "\n",
        "\n",
        "X = no_outliers_amount[['Industry_Vertical_encoded', 'Investment_Type_encoded', 'investor_count']]\n",
        "y = no_outliers_amount['amount_category_encoded']\n",
        "\n",
        "# Train-test split\n",
        "X_train, X_test, y_train, y_test = train_test_split(X, y, test_size=0.2, random_state=42)\n",
        "\n",
        "# Define models\n",
        "models = {\n",
        "    \"Logistic Regression\": LogisticRegression(max_iter=2000),\n",
        "    \"Decision Tree\": DecisionTreeClassifier(random_state=42,),\n",
        "    \"Random Forest\": RandomForestClassifier(random_state=42),\n",
        "    \"KNN\": KNeighborsClassifier(n_neighbors=5),\n",
        "    \"SVM\": SVC(),\n",
        "    \"XGBoost\": XGBClassifier(use_label_encoder=False, eval_metric='mlogloss')\n",
        "}\n",
        "\n",
        "# Print only accuracy\n",
        "for name, model in models.items():\n",
        "    model.fit(X_train, y_train)\n",
        "    y_pred = model.predict(X_test)\n",
        "    acc = accuracy_score(y_test, y_pred)\n",
        "    print(f\"{name}: {acc:.4f}\")\n"
      ],
      "metadata": {
        "colab": {
          "base_uri": "https://localhost:8080/"
        },
        "id": "NDqHJPed4v2K",
        "outputId": "c36a7837-5bd4-408d-e9d8-a17534245956"
      },
      "execution_count": 24,
      "outputs": [
        {
          "output_type": "stream",
          "name": "stdout",
          "text": [
            "Logistic Regression: 0.7894\n",
            "Decision Tree: 0.8160\n",
            "Random Forest: 0.8180\n",
            "KNN: 0.8160\n",
            "SVM: 0.8057\n"
          ]
        },
        {
          "output_type": "stream",
          "name": "stderr",
          "text": [
            "/usr/local/lib/python3.11/dist-packages/xgboost/training.py:183: UserWarning: [12:07:37] WARNING: /workspace/src/learner.cc:738: \n",
            "Parameters: { \"use_label_encoder\" } are not used.\n",
            "\n",
            "  bst.update(dtrain, iteration=i, fobj=obj)\n"
          ]
        },
        {
          "output_type": "stream",
          "name": "stdout",
          "text": [
            "XGBoost: 0.8200\n"
          ]
        }
      ]
    },
    {
      "cell_type": "markdown",
      "source": [
        "Random forest has the best accuracy."
      ],
      "metadata": {
        "id": "GEbYBIYfbi6r"
      }
    },
    {
      "cell_type": "code",
      "source": [
        "from sklearn.ensemble import RandomForestClassifier\n",
        "\n",
        "# Example mapping\n",
        "class_mapping = {\n",
        "    0: 'Low',\n",
        "    1: 'Mid',\n",
        "    2: 'High'\n",
        "}\n",
        "\n",
        "# Already trained model\n",
        "rf_model = RandomForestClassifier().fit(X_train, y_train)\n",
        "\n",
        "# Example input - use correct feature order\n",
        "new_data = [[2, 3, 1]]\n",
        "\n",
        "# Predict class\n",
        "rf_pred = rf_model.predict(new_data)[0]\n",
        "\n",
        "# Map to label\n",
        "rf_label = class_mapping.get(rf_pred, 'Unknown')\n",
        "\n",
        "print(f\"Prediction using Random Forest: {rf_pred} → {rf_label}\")\n"
      ],
      "metadata": {
        "colab": {
          "base_uri": "https://localhost:8080/"
        },
        "id": "bU7Bbrs66tvw",
        "outputId": "b1de7f9e-3775-41b5-90ed-be4ed958ace8"
      },
      "execution_count": 25,
      "outputs": [
        {
          "output_type": "stream",
          "name": "stdout",
          "text": [
            "Prediction using Random Forest: 2 → High\n"
          ]
        },
        {
          "output_type": "stream",
          "name": "stderr",
          "text": [
            "/usr/local/lib/python3.11/dist-packages/sklearn/utils/validation.py:2739: UserWarning: X does not have valid feature names, but RandomForestClassifier was fitted with feature names\n",
            "  warnings.warn(\n"
          ]
        }
      ]
    },
    {
      "cell_type": "code",
      "source": [
        "from sklearn.metrics import confusion_matrix, ConfusionMatrixDisplay\n",
        "import matplotlib.pyplot as plt\n",
        "\n",
        "# Predict on test data\n",
        "y_pred = rf_model.predict(X_test)\n",
        "\n",
        "# Confusion matrix\n",
        "cm = confusion_matrix(y_test, y_pred)\n",
        "\n",
        "# Optional: Class names if using encoded labels\n",
        "class_names = ['Low', 'Mid', 'High']\n",
        "\n",
        "# Display\n",
        "disp = ConfusionMatrixDisplay(confusion_matrix=cm, display_labels=class_names)\n",
        "disp.plot(cmap='Blues', values_format='d')\n",
        "plt.title(\"Confusion Matrix - Random Forest\")\n",
        "plt.show()\n"
      ],
      "metadata": {
        "colab": {
          "base_uri": "https://localhost:8080/",
          "height": 472
        },
        "id": "WpmjZIqovf07",
        "outputId": "d5082afc-9a6b-4c9e-f6eb-06ab913d22e1"
      },
      "execution_count": 26,
      "outputs": [
        {
          "output_type": "display_data",
          "data": {
            "text/plain": [
              "<Figure size 640x480 with 2 Axes>"
            ],
            "image/png": "[encoded data removed]"
          },
          "metadata": {}
        }
      ]
    },
    {
      "cell_type": "markdown",
      "source": [
        "- Low class is predicted quite well: 235 out of 269 correct (~87.4%).\n",
        "\n",
        "- High class also performs strongly: 163 out of 169 correct (~96.4%).\n",
        "\n",
        "- Mid class is poorly classified: Only 1 out of 51 predicted correctly (~2%)."
      ],
      "metadata": {
        "id": "JTaiRSqvvwqa"
      }
    },
    {
      "cell_type": "markdown",
      "source": [
        "which means we have to work on the model more on mid values."
      ],
      "metadata": {
        "id": "vVcgmKTnwsC4"
      }
    },
    {
      "cell_type": "code",
      "source": [
        "import pandas as pd\n",
        "import matplotlib.pyplot as plt\n",
        "\n",
        "importances = rf_model.feature_importances_\n",
        "\n",
        "# Assuming X_train is a DataFrame\n",
        "feature_importance_df = pd.DataFrame({\n",
        "    'Feature': X_train.columns,\n",
        "    'Importance': importances\n",
        "}).sort_values(by='Importance', ascending=False)\n",
        "\n",
        "print(\"\\nFeature Importance:\")\n",
        "print(feature_importance_df)\n",
        "\n",
        "# Optional plot\n",
        "feature_importance_df.plot(kind='barh', x='Feature', y='Importance', legend=False)\n",
        "plt.title(\"Random Forest Feature Importance\")\n",
        "plt.tight_layout()\n",
        "plt.show()\n"
      ],
      "metadata": {
        "id": "NUv27N9s8Vjx",
        "colab": {
          "base_uri": "https://localhost:8080/",
          "height": 596
        },
        "outputId": "7d849e5e-2f10-4246-b20e-623ad201552e"
      },
      "execution_count": 27,
      "outputs": [
        {
          "output_type": "stream",
          "name": "stdout",
          "text": [
            "\n",
            "Feature Importance:\n",
            "                     Feature  Importance\n",
            "1    Investment_Type_encoded    0.901390\n",
            "0  Industry_Vertical_encoded    0.083956\n",
            "2             investor_count    0.014654\n"
          ]
        },
        {
          "output_type": "display_data",
          "data": {
            "text/plain": [
              "<Figure size 640x480 with 1 Axes>"
            ],
            "image/png": "[encoded data removed]"
          },
          "metadata": {}
        }
      ]
    },
    {
      "cell_type": "code",
      "source": [],
      "metadata": {
        "id": "6rmcig3IA_p6"
      },
      "execution_count": 27,
      "outputs": []
    }
  ]
}
